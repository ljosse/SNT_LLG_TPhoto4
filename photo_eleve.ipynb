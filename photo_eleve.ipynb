{
 "cells": [
  {
   "cell_type": "markdown",
   "metadata": {},
   "source": [
    "<table style=\"border:1px solid black\">\n",
    "    <tbody>\n",
    "    <tr>\n",
    "    <td style=\"text-align: center; vertical-align: middle; border:1px solid black;\"><h1>TP</h1></td>\n",
    "       <td><h2>1h30</h2></td>\n",
    "    <td style=\"text-align: center; vertical-align: middle; border:1px solid black;\"><h2>La photographie numérique</h2></td>\n",
    "    <th rowspan=\"2\" style=\"text-align: center; vertical-align: middle; border:1px solid black; background-color:white;\"><img alt=\"logoLLG\" src=\"logoLLG.png\"></th>\n",
    "     </tr>\n",
    "     <tr>\n",
    "    <th colspan=\"2\" style=\"text-align: center; vertical-align: middle; border:1px solid black; background-color:white;\"><img alt=\"logoSNT\" src=\"logoSNT.jpg\"></th>\n",
    "    <td style=\"text-align: center; vertical-align: middle; border:1px solid black;\"><h2>Traiter par programme une image pour la transformer en agissant sur les trois composantes de ses pixels.</h2></td>\n",
    "    </tr>\n",
    "    </tbody>\n",
    "</table>"
   ]
  },
  {
   "cell_type": "markdown",
   "metadata": {},
   "source": [
    "<h1>Programmation</h1>\n",
    "            <p>La bibliothèque Python « PIL » (Python Imaging Library) permet de \n",
    "               traiter les images dans de nombreux formats. On l’importe avec <i>from \n",
    "               PIL import Image</i><br>\n",
    "               On utilise la méthode <i>getpixel((x,y))</i> pour obtenir les informations sur le pixel de coordonnées x, y.<br>\n",
    "               On peut aussi lire l’ensemble des donnés d’une image avec la méthode <i>getdata()</i>.<br>Nous vous proposons de \n",
    "               découvrir quelques fonctions au travers d’un exemple qui affiche les pixels d’une image. \n",
    "            </p>"
   ]
  },
  {
   "cell_type": "markdown",
   "metadata": {},
   "source": [
    "Exécuter le code suivant :"
   ]
  },
  {
   "cell_type": "code",
   "execution_count": null,
   "metadata": {},
   "outputs": [],
   "source": [
    "from PIL import Image\n",
    "from matplotlib.pyplot import imshow\n",
    "img = Image.open(\"couleurs.jpg\")\n",
    "print(\"Format, taille et codage de l'image :\")\n",
    "L,H = img.size\n",
    "formI=img.format\n",
    "codeI=img.mode\n",
    "print(formI,L,H,codeI )"
   ]
  },
  {
   "cell_type": "code",
   "execution_count": null,
   "metadata": {},
   "outputs": [],
   "source": [
    "imshow(img)   #affiche l'image"
   ]
  },
  {
   "cell_type": "markdown",
   "metadata": {},
   "source": [
    "1.1. Exécuter le code qui permet de visualiser les informations RVB des six couleurs de l'image."
   ]
  },
  {
   "cell_type": "code",
   "execution_count": null,
   "metadata": {},
   "outputs": [],
   "source": [
    "print(\"couleur 1 : \",img.getpixel((5,3)))\n",
    "\n",
    "# A compléter\n"
   ]
  },
  {
   "cell_type": "markdown",
   "metadata": {},
   "source": [
    "1.2. Compléter la méthode \"affichePix(image)\" qui affiche tous les pixels de l'image."
   ]
  },
  {
   "cell_type": "code",
   "execution_count": null,
   "metadata": {},
   "outputs": [],
   "source": [
    "def affichePix(image):\n",
    "    \n",
    "    # A compléter\n",
    "\n",
    "affichePix(img)"
   ]
  },
  {
   "cell_type": "markdown",
   "metadata": {},
   "source": [
    "2.1. Création d'une nouvelle image aux dimensions de la précédente, remplacement d'un pixel noir d'origine par un rouge."
   ]
  },
  {
   "cell_type": "code",
   "execution_count": null,
   "metadata": {},
   "outputs": [],
   "source": [
    "newimg = Image.new(\"RGB\",(L,H))\n",
    "x, y = 15, 15\n",
    "newimg.putpixel((x,y),(255,0,0))\n",
    "imshow(newimg)"
   ]
  },
  {
   "cell_type": "markdown",
   "metadata": {},
   "source": [
    "2.2. Remplacer un pixel blanc par un pixel de la couleur de votre choix dans l'image \"couleurs.jpg\"."
   ]
  },
  {
   "cell_type": "code",
   "execution_count": null,
   "metadata": {
    "scrolled": false
   },
   "outputs": [],
   "source": [
    "\n",
    "# A compléter\n"
   ]
  },
  {
   "cell_type": "markdown",
   "metadata": {},
   "source": [
    "Pour créer un filtre de couleur rouge sur l’image, il suffit de supprimer les pixels Verts et Bleus et de garder uniquement les pixels Rouges. Vous devez donc :\n",
    "<ul>\n",
    "    <li>Créer une nouvelle image de dimensions L, H</li>\n",
    "    <li>Pour chaque pixel, lire le pixel de l'image d'origine, le modifier et\n",
    "      le placer dans la nouvelle image</li>\n",
    "    <li>Enregistrer la nouvelle image</li>\n",
    "</ul>"
   ]
  },
  {
   "cell_type": "markdown",
   "metadata": {},
   "source": [
    "3.1. Réaliser la fonction filtreR() qui prend comme paramètre l’image \"perroquet.jpg\" et retourne la nouvelle image filtrée. Afficher-la à l’écran."
   ]
  },
  {
   "cell_type": "code",
   "execution_count": null,
   "metadata": {},
   "outputs": [],
   "source": [
    "def filtreR(image):\n",
    "    L,H = image.size\n",
    "    newimg = Image.new(\"RGB\",(L,H))\n",
    "    \n",
    "    # A compléter\n",
    "    \n",
    "    return newimg\n",
    "\n",
    "img2 = Image.open(\"perroquet.jpg\")\n",
    "perroquetR = filtreR(img2)\n",
    "imshow(perroquetR)"
   ]
  },
  {
   "cell_type": "markdown",
   "metadata": {},
   "source": [
    "Pour transformer une image en niveaux de gris, nous utilisons la méthode <i>convert()</i> comme suit : <i>imgNG = img.convert(‘L’)</i>.<br>\n",
    "4.1 Transformer l’image en niveaux de gris \"perroquetNG\" et l'afficher."
   ]
  },
  {
   "cell_type": "code",
   "execution_count": null,
   "metadata": {},
   "outputs": [],
   "source": [
    "\n",
    "# A compléter\n"
   ]
  },
  {
   "cell_type": "markdown",
   "metadata": {},
   "source": [
    "4.2. Afficher les pixels de cette image en niveau de gris."
   ]
  },
  {
   "cell_type": "code",
   "execution_count": null,
   "metadata": {},
   "outputs": [],
   "source": [
    "# A compléter"
   ]
  },
  {
   "cell_type": "markdown",
   "metadata": {},
   "source": [
    "5.1. On désire transformer l'image en niveau de gris précédente par une image en noir et blanc. Nous devons donc remplacer les pixels inférieurs à 128 par 0 et ceux supérieurs à 128 par 255."
   ]
  },
  {
   "cell_type": "code",
   "execution_count": null,
   "metadata": {},
   "outputs": [],
   "source": [
    "l, h = perroquetNG.size\n",
    "perroquetNB = Image.new(\"L\",(l,h))\n",
    "\n",
    "# A compléter\n"
   ]
  }
 ],
 "metadata": {
  "kernelspec": {
   "display_name": "Python 3",
   "language": "python",
   "name": "python3"
  },
  "language_info": {
   "codemirror_mode": {
    "name": "ipython",
    "version": 3
   },
   "file_extension": ".py",
   "mimetype": "text/x-python",
   "name": "python",
   "nbconvert_exporter": "python",
   "pygments_lexer": "ipython3",
   "version": "3.7.3"
  }
 },
 "nbformat": 4,
 "nbformat_minor": 2
}
